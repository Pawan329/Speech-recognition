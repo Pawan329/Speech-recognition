{
 "cells": [
  {
   "cell_type": "markdown",
   "metadata": {},
   "source": [
    "# Speech recognition and Play YouTube"
   ]
  },
  {
   "cell_type": "markdown",
   "metadata": {},
   "source": [
    "## In this Project user can search his/her favourite video in YouTube:\n",
    "### How it works\n",
    "- First It will show text : \"I am Pawan's Jarvis how may i help you ?\"\n",
    "- After that User has to speak \"Jarvis\" Play my video from youtube \n",
    "- Note :user has to include 'Jarvis' in the speech then only it will work \n",
    "- Then it will show : 'Which Video would you like to see sir !!'\n",
    "- Then user has speak video name that he/she want to see in youtube\n"
   ]
  },
  {
   "cell_type": "code",
   "execution_count": 55,
   "metadata": {},
   "outputs": [
    {
     "name": "stdout",
     "output_type": "stream",
     "text": [
      "I am Pawan's Jarvis how may i help you ?\n",
      "Which Video would you like to see sir !!\n",
      "Now Playing......don't look by Karan Aujla\n"
     ]
    }
   ],
   "source": [
    "\n",
    "import speech_recognition as sr\n",
    "import webbrowser as wb\n",
    "\n",
    "r1 = sr.Recognizer()\n",
    "r2 = sr.Recognizer()\n",
    "\n",
    "# ============================================================================================================================\n",
    "\n",
    "with sr.Microphone() as source:                              # using microphone as source\n",
    "    print(\"I am Pawan's Jarvis how may i help you ?\")\n",
    "    \n",
    "\n",
    "    audio = r2.listen(source)                               # Listen audio from microphone and keep in variable audio\n",
    "    \n",
    "    if \"Jarvis\" in r1.recognize_google(audio):              # coverts in text from audi and matching if jarvis is there or not\n",
    "        r1 = sr.Recognizer()                                # id jarvis found in text it will go in loop\n",
    "        url = \"https://www.youtube.com/results?search_query=\"\n",
    "        with sr.Microphone() as source:                        # 2nd loop starts from here again it ask to speak\n",
    "            print('Which Video would you like to see sir !!')\n",
    "            audio = r1.listen(source)\n",
    "            \n",
    "            try:\n",
    "                get = r1.recognize_google(audio)         # it will convert audio to text and keep in get variable\n",
    "                print('Now Playing......' + get)                               \n",
    "                wb.get().open_new(url+get)              # it will open youtube + query\n",
    "                \n",
    "# ============================================================================================================================    \n",
    "                \n",
    "            except sr.UnknownValueError:\n",
    "                print('Error!!!')\n",
    "            except sr.RequestError as e:\n",
    "                print(f'Failed to listen {e}')\n",
    "            except:\n",
    "                print('Exceptional error!!!')\n",
    "                \n",
    "# =============================================== END ======================================================================\n"
   ]
  },
  {
   "cell_type": "code",
   "execution_count": null,
   "metadata": {},
   "outputs": [],
   "source": []
  },
  {
   "cell_type": "code",
   "execution_count": null,
   "metadata": {},
   "outputs": [],
   "source": []
  },
  {
   "cell_type": "code",
   "execution_count": null,
   "metadata": {},
   "outputs": [],
   "source": []
  },
  {
   "cell_type": "code",
   "execution_count": 39,
   "metadata": {},
   "outputs": [
    {
     "data": {
      "text/plain": [
       "str"
      ]
     },
     "execution_count": 39,
     "metadata": {},
     "output_type": "execute_result"
    }
   ],
   "source": [
    "type(repr('str1' or 'str2'))"
   ]
  },
  {
   "cell_type": "code",
   "execution_count": null,
   "metadata": {},
   "outputs": [],
   "source": []
  },
  {
   "cell_type": "code",
   "execution_count": null,
   "metadata": {},
   "outputs": [],
   "source": []
  },
  {
   "cell_type": "code",
   "execution_count": 44,
   "metadata": {},
   "outputs": [
    {
     "name": "stdout",
     "output_type": "stream",
     "text": [
      "speak now....\n",
      "hello\n"
     ]
    }
   ],
   "source": [
    "# Testing 1\n",
    "import speech_recognition as sr\n",
    "r1 = sr.Recognizer()\n",
    "\n",
    "with sr.Microphone() as source:\n",
    "\n",
    "    print('speak now....')\n",
    "    audio = r1.listen(source)\n",
    "    \n",
    "    a = r1.recognize_google(audio)\n",
    "    print(a)"
   ]
  },
  {
   "cell_type": "code",
   "execution_count": null,
   "metadata": {},
   "outputs": [],
   "source": []
  },
  {
   "cell_type": "code",
   "execution_count": 15,
   "metadata": {},
   "outputs": [],
   "source": [
    "# Testing 2\n",
    "\n",
    "# import speech_recognition as sr\n",
    "# r = sr.Recognizer()\n",
    "# with sr.Microphone() as source:\n",
    "#     print('Speak anything')\n",
    "#     audio = r.listen(source)\n",
    "    \n",
    "#     try:\n",
    "#         text = r.recognize_google(audio)\n",
    "#         print(text)   \n",
    "        \n",
    "#     except:\n",
    "#         print('sorry')\n",
    "\n",
    "# if 'Google' in text:\n",
    "#     print('yes')"
   ]
  },
  {
   "cell_type": "code",
   "execution_count": 16,
   "metadata": {},
   "outputs": [],
   "source": [
    "# import webbrowser as wb"
   ]
  },
  {
   "cell_type": "code",
   "execution_count": 17,
   "metadata": {
    "scrolled": true
   },
   "outputs": [],
   "source": [
    "# wb.open_new_tab('www.youtube.com')"
   ]
  },
  {
   "cell_type": "code",
   "execution_count": null,
   "metadata": {},
   "outputs": [],
   "source": []
  }
 ],
 "metadata": {
  "kernelspec": {
   "display_name": "Python 3",
   "language": "python",
   "name": "python3"
  },
  "language_info": {
   "codemirror_mode": {
    "name": "ipython",
    "version": 3
   },
   "file_extension": ".py",
   "mimetype": "text/x-python",
   "name": "python",
   "nbconvert_exporter": "python",
   "pygments_lexer": "ipython3",
   "version": "3.7.3"
  }
 },
 "nbformat": 4,
 "nbformat_minor": 2
}
